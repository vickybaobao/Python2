{
 "cells": [
  {
   "cell_type": "code",
   "execution_count": 2,
   "metadata": {},
   "outputs": [
    {
     "ename": "ModuleNotFoundError",
     "evalue": "No module named 'cv2'",
     "output_type": "error",
     "traceback": [
      "\u001b[1;31m---------------------------------------------------------------------------\u001b[0m",
      "\u001b[1;31mModuleNotFoundError\u001b[0m                       Traceback (most recent call last)",
      "\u001b[1;32m<ipython-input-2-96feea6774f9>\u001b[0m in \u001b[0;36m<module>\u001b[1;34m()\u001b[0m\n\u001b[0;32m      6\u001b[0m \u001b[1;32mimport\u001b[0m \u001b[0mnumpy\u001b[0m \u001b[1;32mas\u001b[0m \u001b[0mnp\u001b[0m\u001b[1;33m\u001b[0m\u001b[0m\n\u001b[0;32m      7\u001b[0m \u001b[1;32mimport\u001b[0m \u001b[0margparse\u001b[0m\u001b[1;33m\u001b[0m\u001b[0m\n\u001b[1;32m----> 8\u001b[1;33m \u001b[1;32mimport\u001b[0m \u001b[0mcv2\u001b[0m\u001b[1;33m\u001b[0m\u001b[0m\n\u001b[0m\u001b[0;32m      9\u001b[0m \u001b[1;33m\u001b[0m\u001b[0m\n\u001b[0;32m     10\u001b[0m \u001b[1;33m\u001b[0m\u001b[0m\n",
      "\u001b[1;31mModuleNotFoundError\u001b[0m: No module named 'cv2'"
     ]
    }
   ],
   "source": [
    "#作者：InsaneGuy\n",
    "#链接：https://www.zhihu.com/question/29065981/answer/43502813\n",
    "#来源：知乎\n",
    "\n",
    "\n",
    "import numpy as np\n",
    "import argparse\n",
    "import cv2\n",
    " \n",
    " \n",
    "# construct the argument parse and parse the arguments\n",
    "ap = argparse.ArgumentParser()\n",
    "ap.add_argument(\"-i\", \"--image\", help=\"path to the image file\")\n",
    "args = vars(ap.parse_args())\n",
    " \n",
    "# 读取图片，进行边缘检测\n",
    "image = cv2.imread(args[\"image\"])\n",
    "gray = cv2.cvtColor(image, cv2.COLOR_BGR2GRAY)\n",
    "gray = cv2.GaussianBlur(gray, (5, 5), 0)\n",
    "edged = cv2.Canny(gray, 75, 200)\n",
    " \n",
    "# 显示原图和边缘图像\n",
    "cv2.imshow(\"Original Image\", image)\n",
    "cv2.imshow(\"Edged Image\", edged)\n",
    "cv2.waitKey()\n",
    "cv2.destroyAllWindows()\n",
    " \n",
    "# 轮廓提取\n",
    "(cnts, _) = cv2.findContours(edged.copy(), cv2.RETR_LIST,\n",
    "                             cv2.CHAIN_APPROX_SIMPLE)\n",
    "cnts = sorted(cnts, key=cv2.contourArea, reverse=True)\n",
    " \n",
    "frame_contours = []\n",
    "for c in cnts[0:6]:\n",
    "    peri = cv2.arcLength(c, True)\n",
    "    approx = cv2.approxPolyDP(c, 0.02 * peri, True)\n",
    " \n",
    "    if len(approx) == 4:\n",
    "        frame_contours.append(approx)\n",
    " \n",
    "contours_image = image.copy()\n",
    "for contours in frame_contours:\n",
    "    cv2.drawContours(contours_image, [contours], -1, (0, 255, 0), 2)\n",
    " \n",
    "# 显示轮廓图像\n",
    "cv2.imshow(\"Contours\", contours_image)\n",
    "cv2.waitKey()\n",
    "cv2.destroyAllWindows()\n",
    " \n",
    "# 显示结果\n",
    "index = 0\n",
    "for contours in frame_contours:\n",
    "    rect = cv2.boundingRect(contours)\n",
    "    cv2.imshow(\"test\" + str(index),\n",
    "               image[rect[1]:rect[1]+rect[3],\n",
    "                     rect[0]:rect[0]+rect[2]])\n",
    "    index += 1\n",
    " \n",
    "cv2.waitKey()\n",
    "cv2.destroyAllWindows()"
   ]
  },
  {
   "cell_type": "code",
   "execution_count": null,
   "metadata": {},
   "outputs": [],
   "source": []
  }
 ],
 "metadata": {
  "kernelspec": {
   "display_name": "Python 3",
   "language": "python",
   "name": "python3"
  },
  "language_info": {
   "codemirror_mode": {
    "name": "ipython",
    "version": 3
   },
   "file_extension": ".py",
   "mimetype": "text/x-python",
   "name": "python",
   "nbconvert_exporter": "python",
   "pygments_lexer": "ipython3",
   "version": "3.6.5"
  }
 },
 "nbformat": 4,
 "nbformat_minor": 2
}
