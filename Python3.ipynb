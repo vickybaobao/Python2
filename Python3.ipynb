{
 "cells": [
  {
   "cell_type": "code",
   "execution_count": 4,
   "metadata": {},
   "outputs": [
    {
     "name": "stdout",
     "output_type": "stream",
     "text": [
      "pressures: [0.273, 0.275, 0.277, 0.275, 0.276]\n"
     ]
    }
   ],
   "source": [
    "#df1=  pandas.read_csv('DataClass/python-novice-gapminder-data/data/gapminder_gdp_europe.csv',index_col=\"country\")\n",
    "\n",
    "pressures=[0.273,0.275,0.277,0.275,0.276]\n",
    "print('pressures:',pressures)"
   ]
  },
  {
   "cell_type": "code",
   "execution_count": 5,
   "metadata": {},
   "outputs": [
    {
     "name": "stdout",
     "output_type": "stream",
     "text": [
      "5\n"
     ]
    }
   ],
   "source": [
    "print(len(pressures))"
   ]
  },
  {
   "cell_type": "code",
   "execution_count": 6,
   "metadata": {},
   "outputs": [
    {
     "name": "stdout",
     "output_type": "stream",
     "text": [
      "0.273\n"
     ]
    }
   ],
   "source": [
    "print(pressures[0])"
   ]
  },
  {
   "cell_type": "code",
   "execution_count": 7,
   "metadata": {},
   "outputs": [
    {
     "name": "stdout",
     "output_type": "stream",
     "text": [
      "0.276\n"
     ]
    }
   ],
   "source": [
    "print(pressures[4])"
   ]
  },
  {
   "cell_type": "code",
   "execution_count": 9,
   "metadata": {},
   "outputs": [
    {
     "name": "stdout",
     "output_type": "stream",
     "text": [
      "[2, 3, 5]\n",
      "[2, 3, 5, 7, 9]\n"
     ]
    }
   ],
   "source": [
    "primes=[2,3,5]\n",
    "print(primes)\n",
    "primes.append(7)\n",
    "primes.append(9)\n",
    "print(primes)"
   ]
  },
  {
   "cell_type": "code",
   "execution_count": 14,
   "metadata": {},
   "outputs": [
    {
     "name": "stdout",
     "output_type": "stream",
     "text": [
      "[2, 3, 5, 7, 9, 11, 13, 17, 19, 11, 13, 17, 19, 11, 13, 17, 19, 11, 13, 17, 19]\n"
     ]
    }
   ],
   "source": [
    "teen_primes=[11,13,17,19]\n",
    "middle_aged_primes=[37,41,43,47]\n",
    "primes.extend(teen_primes)\n",
    "print(primes)"
   ]
  },
  {
   "cell_type": "code",
   "execution_count": 17,
   "metadata": {},
   "outputs": [
    {
     "name": "stdout",
     "output_type": "stream",
     "text": [
      "[2, 3, 5, 7, 9, 11, 13, 17, 19, 11, 13, 17, 19, 11, 13, 17, 19, 11, 13, 17, 19, [37, 41, 43, 47]]\n"
     ]
    }
   ],
   "source": [
    "primes.append(middle_aged_primes)\n",
    "print(primes)"
   ]
  },
  {
   "cell_type": "code",
   "execution_count": 19,
   "metadata": {},
   "outputs": [
    {
     "name": "stdout",
     "output_type": "stream",
     "text": [
      "[2, 3, 5, 7, 9, 11, 13, 17, 19, 11, 13, 17, 19, 11, 13, 17, 19, 11, 13, 17, 19, [37, 41, 43, 47]]\n"
     ]
    }
   ],
   "source": [
    "print(primes)"
   ]
  },
  {
   "cell_type": "code",
   "execution_count": 22,
   "metadata": {},
   "outputs": [
    {
     "name": "stdout",
     "output_type": "stream",
     "text": [
      "[2, 3, 5, 7, 17, 19, 11, 13, 17, 19, 11, 13, 17, 19, 11, 13, 17, 19, [37, 41, 43, 47]]\n"
     ]
    }
   ],
   "source": [
    "del primes[4]\n",
    "print(primes)"
   ]
  },
  {
   "cell_type": "code",
   "execution_count": 23,
   "metadata": {},
   "outputs": [
    {
     "name": "stdout",
     "output_type": "stream",
     "text": [
      "[1, 'creat list', 2, 'extract items']\n"
     ]
    }
   ],
   "source": [
    "goals=[1,\"creat list\",2,'extract items']\n",
    "print(goals)"
   ]
  },
  {
   "cell_type": "code",
   "execution_count": 26,
   "metadata": {},
   "outputs": [
    {
     "data": {
      "text/plain": [
       "'b'"
      ]
     },
     "execution_count": 26,
     "metadata": {},
     "output_type": "execute_result"
    }
   ],
   "source": [
    "element='carbon'\n",
    "element[0]\n",
    "element[3]"
   ]
  },
  {
   "cell_type": "code",
   "execution_count": 34,
   "metadata": {},
   "outputs": [
    {
     "data": {
      "text/plain": [
       "9"
      ]
     },
     "execution_count": 34,
     "metadata": {},
     "output_type": "execute_result"
    }
   ],
   "source": [
    "values=[1,2,3,4,5,6,7,8,9,10,200]\n",
    "low=2\n",
    "high=8\n",
    "values[low]\n",
    "values[high]\n"
   ]
  },
  {
   "cell_type": "code",
   "execution_count": 32,
   "metadata": {},
   "outputs": [
    {
     "name": "stdout",
     "output_type": "stream",
     "text": [
      "m\n"
     ]
    }
   ],
   "source": [
    "element='helium'\n",
    "print(element[-1])"
   ]
  },
  {
   "cell_type": "code",
   "execution_count": 39,
   "metadata": {},
   "outputs": [
    {
     "name": "stdout",
     "output_type": "stream",
     "text": [
      "furn\n"
     ]
    }
   ],
   "source": [
    "del pressures[-1]\n",
    "element='fluorine'\n",
    "print(element[::2]) # take step of 2 "
   ]
  },
  {
   "cell_type": "raw",
   "metadata": {},
   "source": [
    "\n",
    "element='fluorine'\n",
    "print(element[::-1])"
   ]
  },
  {
   "cell_type": "code",
   "execution_count": 41,
   "metadata": {},
   "outputs": [
    {
     "name": "stdout",
     "output_type": "stream",
     "text": [
      "letters is ['g', 'o', 'l', 'd'] adn results is ['d', 'g', 'l', 'o']\n"
     ]
    }
   ],
   "source": [
    "letters= list ('gold')\n",
    "results= sorted(letters)\n",
    "print('letters is', letters, 'and results is', results)"
   ]
  },
  {
   "cell_type": "code",
   "execution_count": 45,
   "metadata": {},
   "outputs": [
    {
     "name": "stdout",
     "output_type": "stream",
     "text": [
      "letters is ['d', 'g', 'l', 'o'] and results is None\n"
     ]
    }
   ],
   "source": [
    "letters= list ('gold')\n",
    "results= letters.sort() ## this is function, letters sort itself\n",
    "print('letters is', letters, 'and results is', results)"
   ]
  },
  {
   "cell_type": "code",
   "execution_count": 48,
   "metadata": {},
   "outputs": [
    {
     "name": "stdout",
     "output_type": "stream",
     "text": [
      "['D', 'o', 'l', 'd']\n",
      "['D', 'o', 'l', 'd']\n"
     ]
    }
   ],
   "source": [
    "old= list('gold')\n",
    "new= old\n",
    "new[0]='D'\n",
    "print(old)\n",
    "print(new)"
   ]
  },
  {
   "cell_type": "code",
   "execution_count": 49,
   "metadata": {},
   "outputs": [
    {
     "name": "stdout",
     "output_type": "stream",
     "text": [
      "['g', 'o', 'l', 'd']\n",
      "['D', 'o', 'l', 'd']\n"
     ]
    }
   ],
   "source": [
    "new = old[:]\n",
    "new[0]='g'\n",
    "print(new)\n",
    "print(old)"
   ]
  },
  {
   "cell_type": "code",
   "execution_count": 50,
   "metadata": {},
   "outputs": [
    {
     "name": "stdout",
     "output_type": "stream",
     "text": [
      "2\n",
      "3\n",
      "5\n"
     ]
    }
   ],
   "source": [
    "for number in [2,3,5]:    # : use to change the lines\n",
    "    print(number)     ## must leave the space  indentation"
   ]
  },
  {
   "cell_type": "code",
   "execution_count": 57,
   "metadata": {},
   "outputs": [
    {
     "name": "stdout",
     "output_type": "stream",
     "text": [
      "g\n",
      "o\n",
      "l\n",
      "d\n"
     ]
    }
   ],
   "source": [
    "for PP in  list('gold'): \n",
    "    print (PP)"
   ]
  },
  {
   "cell_type": "code",
   "execution_count": 61,
   "metadata": {},
   "outputs": [
    {
     "name": "stdout",
     "output_type": "stream",
     "text": [
      "[[0, 0, 0, 0], [0, 0, 0, 0], [0, 0, 0, 0]]\n"
     ]
    }
   ],
   "source": [
    "n = 3\n",
    "m = 4\n",
    "a = [0] * n\n",
    "for i in range(n):\n",
    "    a[i] = [0] * m\n",
    "print(a)"
   ]
  },
  {
   "cell_type": "code",
   "execution_count": 64,
   "metadata": {},
   "outputs": [
    {
     "name": "stdout",
     "output_type": "stream",
     "text": [
      "P= 2 squ= 4 8\n",
      "P= 3 squ= 9 27\n",
      "P= 5 squ= 25 125\n"
     ]
    }
   ],
   "source": [
    "primes=[2,3,5]\n",
    "for p in primes:\n",
    "    suqresd=p**2\n",
    "    cubed =p**3\n",
    "    print(\"P=\",p,\"squ=\",suqresd, cubed)"
   ]
  },
  {
   "cell_type": "code",
   "execution_count": 66,
   "metadata": {},
   "outputs": [
    {
     "name": "stdout",
     "output_type": "stream",
     "text": [
      "range(0, 3)\n",
      "0\n",
      "1\n",
      "2\n"
     ]
    }
   ],
   "source": [
    "print(range(0,3))\n",
    "for n in range(0,3):\n",
    "    print(n)"
   ]
  },
  {
   "cell_type": "code",
   "execution_count": 76,
   "metadata": {},
   "outputs": [
    {
     "name": "stdout",
     "output_type": "stream",
     "text": [
      "0 0\n",
      "1 1\n",
      "2 3\n",
      "3 6\n",
      "4 10\n",
      "5 15\n",
      "6 21\n",
      "7 28\n",
      "8 36\n",
      "9 45\n"
     ]
    }
   ],
   "source": [
    "tol=0\n",
    "for n in range(10):   # rang(10) 10 number 0-9\n",
    "    tol+=n     #  total+= n the same as total=total+n\n",
    "    print(n,tol)    "
   ]
  },
  {
   "cell_type": "code",
   "execution_count": 78,
   "metadata": {},
   "outputs": [],
   "source": [
    "color=['red','yellow','green']\n",
    "length=[]\n",
    "for word in color:\n",
    "    length.append(len(word))"
   ]
  },
  {
   "cell_type": "code",
   "execution_count": 81,
   "metadata": {},
   "outputs": [
    {
     "name": "stdout",
     "output_type": "stream",
     "text": [
      "1 1\n",
      "2 3\n",
      "2 5\n",
      "5 10\n"
     ]
    }
   ],
   "source": [
    "sum=0\n",
    "data=[1,2,2,5]\n",
    "for n in data:\n",
    "    sum+=n\n",
    "    print(n,sum)\n"
   ]
  },
  {
   "cell_type": "code",
   "execution_count": 82,
   "metadata": {},
   "outputs": [
    {
     "name": "stdout",
     "output_type": "stream",
     "text": [
      "[1, 3, 5, 10]\n"
     ]
    }
   ],
   "source": [
    "sum=0\n",
    "data=[1,2,2,5]\n",
    "cumulative=[]\n",
    "for n in data:\n",
    "    sum += n\n",
    "    cumulative.append(sum)\n",
    "print(cumulative)"
   ]
  },
  {
   "cell_type": "code",
   "execution_count": 88,
   "metadata": {},
   "outputs": [
    {
     "name": "stdout",
     "output_type": "stream",
     "text": [
      "DataClass/python-novice-gapminder-data/data/gapminder_gdp_africa.csv\n",
      "DataClass/python-novice-gapminder-data/data/gapminder_gdp_asia.csv\n"
     ]
    }
   ],
   "source": [
    "import pandas as pd\n",
    "for name in ['DataClass/python-novice-gapminder-data/data/gapminder_gdp_africa.csv','DataClass/python-novice-gapminder-data/data/gapminder_gdp_asia.csv']:\n",
    "    data=pd.read_csv(name,index_col=\"country\")\n",
    "    print(name)\n",
    "    \n",
    "\n",
    "\n",
    "#df= pandas.read_csv('DataClass/python-novice-gapminder-data/data/gapminder_gdp_europe.csv')"
   ]
  },
  {
   "cell_type": "code",
   "execution_count": 85,
   "metadata": {},
   "outputs": [],
   "source": [
    "import glob"
   ]
  },
  {
   "cell_type": "code",
   "execution_count": 89,
   "metadata": {},
   "outputs": [
    {
     "name": "stdout",
     "output_type": "stream",
     "text": [
      "all csv files in this directory ['DataClass/python-novice-gapminder-data/data\\\\gapminder_all.csv', 'DataClass/python-novice-gapminder-data/data\\\\gapminder_gdp_africa.csv', 'DataClass/python-novice-gapminder-data/data\\\\gapminder_gdp_americas.csv', 'DataClass/python-novice-gapminder-data/data\\\\gapminder_gdp_asia.csv', 'DataClass/python-novice-gapminder-data/data\\\\gapminder_gdp_europe.csv', 'DataClass/python-novice-gapminder-data/data\\\\gapminder_gdp_oceania.csv']\n"
     ]
    }
   ],
   "source": [
    "print('all csv files in this directory',glob.glob('DataClass/python-novice-gapminder-data/data/*.csv'))"
   ]
  },
  {
   "cell_type": "code",
   "execution_count": null,
   "metadata": {},
   "outputs": [],
   "source": [
    "\n",
    "for name in ['DataClass/python-novice-gapminder-data/data/*.csv'}"
   ]
  },
  {
   "cell_type": "code",
   "execution_count": 91,
   "metadata": {},
   "outputs": [],
   "source": [
    "def print_greeting():\n",
    "    print('Hello')"
   ]
  },
  {
   "cell_type": "code",
   "execution_count": 92,
   "metadata": {},
   "outputs": [
    {
     "name": "stdout",
     "output_type": "stream",
     "text": [
      "Hello\n"
     ]
    }
   ],
   "source": [
    "print_greeting()"
   ]
  },
  {
   "cell_type": "code",
   "execution_count": 93,
   "metadata": {},
   "outputs": [],
   "source": [
    "def print_date(year,month,day):\n",
    "    joint =str(year)+\"/\"+str(month)+\"/\"+str(day)\n",
    "    print(joint)"
   ]
  },
  {
   "cell_type": "code",
   "execution_count": 94,
   "metadata": {},
   "outputs": [
    {
     "name": "stdout",
     "output_type": "stream",
     "text": [
      "1778/9/10\n"
     ]
    }
   ],
   "source": [
    "print_date(1778,9,10)"
   ]
  },
  {
   "cell_type": "code",
   "execution_count": 95,
   "metadata": {},
   "outputs": [
    {
     "name": "stdout",
     "output_type": "stream",
     "text": [
      "1889/3/13\n"
     ]
    }
   ],
   "source": [
    "print_date(month=3,day=13,year=1889)"
   ]
  },
  {
   "cell_type": "code",
   "execution_count": 119,
   "metadata": {},
   "outputs": [],
   "source": [
    "\n",
    "def average(value):\n",
    "    if len(value)==0:\n",
    "        return None\n",
    "    return sum(value)/len(value)   #  return will save your results"
   ]
  },
  {
   "cell_type": "code",
   "execution_count": 132,
   "metadata": {},
   "outputs": [],
   "source": [
    "number_list=[1,2,3,4]\n",
    "result=average(number_list)"
   ]
  },
  {
   "cell_type": "code",
   "execution_count": 134,
   "metadata": {},
   "outputs": [
    {
     "name": "stdout",
     "output_type": "stream",
     "text": [
      "2.5\n"
     ]
    }
   ],
   "source": [
    "print(result)"
   ]
  },
  {
   "cell_type": "code",
   "execution_count": 113,
   "metadata": {},
   "outputs": [],
   "source": [
    "def report(pressure):\n",
    "    print(\"The pressure is\", pressure)\n",
    "    "
   ]
  },
  {
   "cell_type": "code",
   "execution_count": 114,
   "metadata": {},
   "outputs": [
    {
     "name": "stdout",
     "output_type": "stream",
     "text": [
      "The pressure is 22.5\n",
      "None\n"
     ]
    }
   ],
   "source": [
    "print(report(22.5))"
   ]
  },
  {
   "cell_type": "code",
   "execution_count": 115,
   "metadata": {},
   "outputs": [],
   "source": [
    "masses=[3.54,2.07,9.22,1.86,1.71]\n"
   ]
  },
  {
   "cell_type": "code",
   "execution_count": 123,
   "metadata": {},
   "outputs": [
    {
     "name": "stdout",
     "output_type": "stream",
     "text": [
      "3.54 is large\n",
      "2.07 is small\n",
      "9.22 is huge\n",
      "1.86 is small\n",
      "1.71 is small\n"
     ]
    }
   ],
   "source": [
    "for m in masses:\n",
    "    if m >9:\n",
    "        print(m,\"is huge\")\n",
    "    elif m >3:\n",
    "        print(m, 'is large')\n",
    "    else:\n",
    "        print(m,\"is small\")"
   ]
  },
  {
   "cell_type": "code",
   "execution_count": 128,
   "metadata": {},
   "outputs": [
    {
     "name": "stdout",
     "output_type": "stream",
     "text": [
      "0 : 10\n",
      "Moving too slow\n",
      "1 : 15.0\n",
      "Moving too slow\n",
      "2 : 20.0\n",
      "Moving too slow\n",
      "3 : 25.0\n",
      "Moving too fast\n",
      "4 : 20.0\n",
      "Moving too slow\n",
      "Final velocity 25.0\n"
     ]
    }
   ],
   "source": [
    "velocity = 10\n",
    "for  step in range(5):\n",
    "    print(step,\":\", velocity)\n",
    "    if velocity> 20:\n",
    "        print(\"Moving too fast\")\n",
    "        velocity+=-5.0\n",
    "    else:\n",
    "        print(\"Moving too slow\")\n",
    "        velocity+=5.0\n",
    "print(\"Final velocity\", velocity)\n",
    "     "
   ]
  }
 ],
 "metadata": {
  "kernelspec": {
   "display_name": "Python 3",
   "language": "python",
   "name": "python3"
  },
  "language_info": {
   "codemirror_mode": {
    "name": "ipython",
    "version": 3
   },
   "file_extension": ".py",
   "mimetype": "text/x-python",
   "name": "python",
   "nbconvert_exporter": "python",
   "pygments_lexer": "ipython3",
   "version": "3.6.5"
  }
 },
 "nbformat": 4,
 "nbformat_minor": 2
}
