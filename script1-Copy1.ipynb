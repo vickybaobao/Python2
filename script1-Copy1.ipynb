{
 "cells": [
  {
   "cell_type": "markdown",
   "metadata": {},
   "source": [
    "# Python programming, day 2\n",
    "Hello, good morning!\n",
    "\n",
    "Start to learn this new language today.Basics of Python and how to plot graphs from publicly accessible data\n",
    "\n",
    "\n"
   ]
  },
  {
   "cell_type": "markdown",
   "metadata": {},
   "source": [
    "# This is a formula\n",
    "$\\sum_{i=1}^{N} 2^{-i} \\approx 1$ \n"
   ]
  },
  {
   "cell_type": "code",
   "execution_count": 16,
   "metadata": {},
   "outputs": [
    {
     "name": "stdout",
     "output_type": "stream",
     "text": [
      "Good morning! Gainesville\n",
      "You were founded 990 year ago\n"
     ]
    }
   ],
   "source": [
    "# THis the first Python script\n",
    "City_name =\"Gainesville\"\n",
    "founded =990\n",
    "print(\"Good morning!\",City_name)\n",
    "print(\"You were founded\", founded,'year ago')"
   ]
  },
  {
   "cell_type": "code",
   "execution_count": 18,
   "metadata": {},
   "outputs": [
    {
     "name": "stdout",
     "output_type": "stream",
     "text": [
      "Age is 34\n"
     ]
    }
   ],
   "source": [
    "year_born=1984\n",
    "year_current=2018\n",
    "age=year_current-year_born\n",
    "print('Age is',age)"
   ]
  },
  {
   "cell_type": "code",
   "execution_count": 24,
   "metadata": {},
   "outputs": [
    {
     "name": "stdout",
     "output_type": "stream",
     "text": [
      "<class 'int'> is a integer\n",
      "64\n",
      "<class 'float'>\n"
     ]
    }
   ],
   "source": [
    "print(type(age),'is a integer')\n",
    "print(3^67)\n",
    "print(type(12.567))\n",
    "# This is a comment"
   ]
  },
  {
   "cell_type": "code",
   "execution_count": 26,
   "metadata": {},
   "outputs": [
    {
     "name": "stdout",
     "output_type": "stream",
     "text": [
      "21\n"
     ]
    }
   ],
   "source": [
    "# Intergers\n",
    "i=4 # This is an integer\n",
    "k=i**3  # ** is exponential\n",
    "l= k//3  # // means what?\n",
    "print(l)"
   ]
  },
  {
   "cell_type": "code",
   "execution_count": 27,
   "metadata": {},
   "outputs": [
    {
     "name": "stdout",
     "output_type": "stream",
     "text": [
      "0.06400000000000002\n"
     ]
    }
   ],
   "source": [
    "# floating point number\n",
    "f=0.4\n",
    "print(f**3)"
   ]
  },
  {
   "cell_type": "code",
   "execution_count": 44,
   "metadata": {},
   "outputs": [
    {
     "name": "stdout",
     "output_type": "stream",
     "text": [
      "3\n",
      "a\n",
      "ab\n",
      "abc\n",
      "ab\n",
      "abc\n",
      "abcdef\n"
     ]
    }
   ],
   "source": [
    "# Text strings\n",
    "str='abc'\n",
    "print(len(str))\n",
    "print(str[0])  # index,python starts with 0,if use 3, will shown error\n",
    "print(str[0:2]) # exclude the last one\n",
    "print(str[0:3])\n",
    "print(str[:2])\n",
    "print(str[:])\n",
    "print(str+'def')"
   ]
  },
  {
   "cell_type": "code",
   "execution_count": 45,
   "metadata": {},
   "outputs": [
    {
     "name": "stdout",
     "output_type": "stream",
     "text": [
      "abcstart with Physon\n"
     ]
    }
   ],
   "source": [
    "print(str+'start with Physon')"
   ]
  },
  {
   "cell_type": "code",
   "execution_count": 40,
   "metadata": {},
   "outputs": [
    {
     "name": "stdout",
     "output_type": "stream",
     "text": [
      "141414\n",
      "42\n",
      "5712\n",
      "190419041904\n"
     ]
    }
   ],
   "source": [
    "age='14'\n",
    "print(age*3)\n",
    "print(int(age)*3)\n",
    "year=1904\n",
    "print(year*3)\n",
    "del(str) # dellet the function that predefine\n",
    "print(str(year)*3)"
   ]
  },
  {
   "cell_type": "code",
   "execution_count": null,
   "metadata": {},
   "outputs": [],
   "source": []
  }
 ],
 "metadata": {
  "kernelspec": {
   "display_name": "Python 3",
   "language": "python",
   "name": "python3"
  },
  "language_info": {
   "codemirror_mode": {
    "name": "ipython",
    "version": 3
   },
   "file_extension": ".py",
   "mimetype": "text/x-python",
   "name": "python",
   "nbconvert_exporter": "python",
   "pygments_lexer": "ipython3",
   "version": "3.6.5"
  }
 },
 "nbformat": 4,
 "nbformat_minor": 2
}
